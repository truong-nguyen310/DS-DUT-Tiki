{
 "cells": [
  {
   "cell_type": "code",
   "execution_count": 2,
   "metadata": {},
   "outputs": [],
   "source": [
    "import pandas as pd\n",
    "\n",
    "# Đọc các tệp CSV\n",
    "csv1 = pd.read_csv('laptop_data_ncds.csv')\n",
    "csv2 = pd.read_csv('mobile_data_ncds.csv')\n",
    "\n",
    "# Gộp các tệp CSV theo chiều dọc\n",
    "merged_data = pd.concat([csv1, csv2], ignore_index=True)\n",
    "\n",
    "# Ghi dữ liệu gộp vào một tệp CSV mới\n",
    "merged_data.to_csv('raw_data.csv', index=False)\n"
   ]
  },
  {
   "cell_type": "code",
   "execution_count": 5,
   "metadata": {},
   "outputs": [],
   "source": [
    "import pandas as pd\n",
    "\n",
    "# Đọc tệp CSV gốc với encoding 'utf-8'\n",
    "data = pd.read_csv('raw_data.csv', encoding='utf-8')\n",
    "\n",
    "# Loại bỏ các dòng có giá trị NULL\n",
    "data.dropna(inplace=True)\n",
    "\n",
    "# Xoá các ký tự không liên quan từ các cột có dạng chuỗi\n",
    "columns_to_clean = ['short_description', 'product_name']  # Danh sách các cột cần làm sạch\n",
    "for column in columns_to_clean:\n",
    "    data[column] = data[column].str.replace(r'[^a-zA-Z0-9\\s]', '')\n",
    "\n",
    "# Lưu dữ liệu đã làm sạch vào một tệp CSV mới với encoding 'utf-8'\n",
    "data.to_csv('clean_data.csv', index=False, encoding='utf-8')\n"
   ]
  },
  {
   "cell_type": "code",
   "execution_count": 6,
   "metadata": {},
   "outputs": [
    {
     "name": "stdout",
     "output_type": "stream",
     "text": [
      "            id            sku  \\\n",
      "460  273244775  9972127061473   \n",
      "461  247925719  1809663028229   \n",
      "462  270814316  2270219015003   \n",
      "463  273357326  1571954078177   \n",
      "464  217645692  6487670580863   \n",
      "\n",
      "                                     short_description    price  list_price  \\\n",
      "460  Diện mạo sang trọng, mỏng nhẹ linh hoạt sở hữu...  4160000     5990000   \n",
      "461  Samsung Galaxy A14 4GB là chiếc điện thoại mới...  3672000     3672000   \n",
      "462  *Thông số kỹ thuậtNền tảng chip 6nm Helio G99 ...  5290000     5290000   \n",
      "463   Màn hình: IPS LCD 6.74\", HD+ (720 x 1600 Pixe...  3059000     3490000   \n",
      "464  Amazon vừa chính thức ra mắt thế hệ tiếp theo ...  3980000     3980000   \n",
      "\n",
      "     discount  discount_rate  rating_average  review_count  quantity_sold  \\\n",
      "460   1830000             31             0.0             0            1.0   \n",
      "461         0              0             5.0             1            2.0   \n",
      "462         0              0             5.0            10           21.0   \n",
      "463    431000             12             0.0             0            1.0   \n",
      "464         0              0             5.0             2           14.0   \n",
      "\n",
      "    inventory_status  stock_item_qty  stock_item_max_sale_qty  \\\n",
      "460        available          1000.0                   1000.0   \n",
      "461        available          1000.0                   1000.0   \n",
      "462        available          1000.0                   1000.0   \n",
      "463        available          1000.0                   1000.0   \n",
      "464        available          1000.0                   1000.0   \n",
      "\n",
      "                                          product_name  brand_id brand_name  \n",
      "460  Điện thoại Samsung Galaxy A23 5G 4GB/128GB Xan...     18802    Samsung  \n",
      "461  Điện thoại Samsung Galaxy A14  (4GB/128GB) - H...     18802    Samsung  \n",
      "462  Điện thoại Tecno POVA 5 (8+8)/256GB - MediaTek...    162007      Tecno  \n",
      "463  Điện thoại Xiaomi Redmi 13C (6GB/128GB) - Hàng...     25422     Xiaomi  \n",
      "464  Combo Máy đọc sách All New Kindle Paperwhite 5...    147856     Kindle  \n"
     ]
    }
   ],
   "source": [
    "import pandas as pd\n",
    "\n",
    "# Đọc tệp CSV gốc với encoding 'utf-8'\n",
    "data = pd.read_csv('clean_data.csv', encoding='utf-8')\n",
    "\n",
    "# Lấy 5 mẫu cuối cùng\n",
    "last_5_samples = data.tail(5)\n",
    "\n",
    "# In ra 5 mẫu cuối cùng\n",
    "print(last_5_samples)\n"
   ]
  }
 ],
 "metadata": {
  "kernelspec": {
   "display_name": "Python 3 (ipykernel)",
   "language": "python",
   "name": "python3"
  },
  "language_info": {
   "codemirror_mode": {
    "name": "ipython",
    "version": 3
   },
   "file_extension": ".py",
   "mimetype": "text/x-python",
   "name": "python",
   "nbconvert_exporter": "python",
   "pygments_lexer": "ipython3",
   "version": "3.10.12"
  }
 },
 "nbformat": 4,
 "nbformat_minor": 2
}
